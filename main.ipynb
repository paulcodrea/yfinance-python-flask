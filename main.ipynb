{
 "cells": [
  {
   "cell_type": "code",
   "execution_count": 1,
   "metadata": {},
   "outputs": [],
   "source": [
    "from flask import Flask, request, render_template, jsonify\n",
    "import yfinance as yf\n",
    "import pandas as pd"
   ]
  },
  {
   "cell_type": "code",
   "execution_count": 2,
   "metadata": {},
   "outputs": [
    {
     "name": "stdout",
     "output_type": "stream",
     "text": [
      "                                             name        date\n",
      "1                               COVID-19 pandemic  11/03/2020\n",
      "4  SpaceX launches first all-civilian spaceflight  15/09/2021\n",
      "5                        Taliban took over Kabul   15/09/2021\n",
      "0               US president election (Joe Biden)  20/01/2021\n",
      "2             Cargo ship gets stuck in Suez Canal  23/03/2021\n"
     ]
    }
   ],
   "source": [
    "# read major_events.csv into a dataframe\n",
    "df = pd.read_csv('major_events.csv')\n",
    "\n",
    "#sort the dataframe by date\n",
    "df = df.sort_values(by=['date'])\n",
    "\n",
    "print(df.head())"
   ]
  },
  {
   "cell_type": "code",
   "execution_count": 3,
   "metadata": {},
   "outputs": [],
   "source": [
    "# instantiate the Flask app.\n",
    "app = Flask(__name__, \n",
    "            template_folder='templates', \n",
    "            static_folder='static')"
   ]
  },
  {
   "cell_type": "code",
   "execution_count": 4,
   "metadata": {},
   "outputs": [],
   "source": [
    "# API Route for pulling the stock quote\n",
    "@app.route(\"/quote\")\n",
    "def display_quote():\n",
    "    # get a stock ticker symbol from the query string\n",
    "    # default to AAPL\n",
    "    symbol = request.args.get('symbol', default=\"AAPL\")\n",
    "    # period = request.args.get('period', default=\"6mo\")\n",
    "    # interval = request.args.get('interval', default=\"1d\")\n",
    "\n",
    "    # print(f\"Display Q: symbol: {symbol}, period: {period}, interval: {interval}\")\n",
    "    # print(jsonify(yf.Ticker(symbol).history(period=period, interval=interval).to_json()))\n",
    "    \n",
    "    # pull the stock quote\n",
    "    quote = yf.Ticker(symbol)\n",
    "\n",
    "    #return the object via the HTTP Response\n",
    "    return jsonify(quote.info)"
   ]
  },
  {
   "cell_type": "code",
   "execution_count": 5,
   "metadata": {},
   "outputs": [],
   "source": [
    "# API route for pulling the stock history\n",
    "@app.route(\"/history\")\n",
    "def display_history():\n",
    "    #get the query string parameters\n",
    "    symbol = request.args.get('symbol', default=\"AAPL\")\n",
    "    period = request.args.get('period', default=\"6mo\")\n",
    "    interval = request.args.get('interval', default=\"1d\")\n",
    "\n",
    "    print(f\"Display H: symbol: {symbol}, period: {period}, interval: {interval}\")\n",
    "\n",
    "    #pull the quote\n",
    "    quote = yf.Ticker(symbol)\n",
    "    #use the quote to pull the historical data from Yahoo finance\n",
    "    hist = quote.history(period=period, interval=interval)\n",
    "    #convert the historical data to JSON\n",
    "    data = hist.to_json()\n",
    "    #return the JSON in the HTTP response\n",
    "    return data"
   ]
  },
  {
   "cell_type": "code",
   "execution_count": 6,
   "metadata": {},
   "outputs": [
    {
     "name": "stdout",
     "output_type": "stream",
     "text": [
      " * Serving Flask app '__main__'\n",
      " * Debug mode: off\n"
     ]
    },
    {
     "name": "stderr",
     "output_type": "stream",
     "text": [
      "WARNING: This is a development server. Do not use it in a production deployment. Use a production WSGI server instead.\n",
      " * Running on all addresses (0.0.0.0)\n",
      " * Running on http://127.0.0.1:81\n",
      " * Running on http://10.114.134.241:81\n",
      "Press CTRL+C to quit\n",
      "127.0.0.1 - - [07/Sep/2022 16:38:27] \"GET / HTTP/1.1\" 200 -\n",
      "127.0.0.1 - - [07/Sep/2022 16:38:27] \"GET /static/scripts/site.js HTTP/1.1\" 304 -\n",
      "127.0.0.1 - - [07/Sep/2022 16:38:31] \"GET /quote?symbol=AAPL&period=6mo&interval=1d&_=1662565107355 HTTP/1.1\" 200 -\n"
     ]
    },
    {
     "name": "stdout",
     "output_type": "stream",
     "text": [
      "Display H: symbol: AAPL, period: 6mo, interval: 1d\n"
     ]
    },
    {
     "name": "stderr",
     "output_type": "stream",
     "text": [
      "127.0.0.1 - - [07/Sep/2022 16:38:32] \"GET /history?symbol=AAPL&period=6mo&interval=1d&_=1662565107356 HTTP/1.1\" 200 -\n",
      "127.0.0.1 - - [07/Sep/2022 16:40:40] \"GET /quote?symbol=NMR&period=6mo&interval=1d&_=1662565107357 HTTP/1.1\" 200 -\n"
     ]
    },
    {
     "name": "stdout",
     "output_type": "stream",
     "text": [
      "Display H: symbol: NMR, period: 6mo, interval: 1d\n"
     ]
    },
    {
     "name": "stderr",
     "output_type": "stream",
     "text": [
      "127.0.0.1 - - [07/Sep/2022 16:40:40] \"GET /history?symbol=NMR&period=6mo&interval=1d&_=1662565107358 HTTP/1.1\" 200 -\n",
      "127.0.0.1 - - [07/Sep/2022 16:41:55] \"GET /quote?symbol=TSLA&period=3mo&interval=1h&_=1662565107359 HTTP/1.1\" 200 -\n"
     ]
    },
    {
     "name": "stdout",
     "output_type": "stream",
     "text": [
      "Display H: symbol: TSLA, period: 3mo, interval: 1h\n"
     ]
    },
    {
     "name": "stderr",
     "output_type": "stream",
     "text": [
      "127.0.0.1 - - [07/Sep/2022 16:41:55] \"GET /history?symbol=TSLA&period=3mo&interval=1h&_=1662565107360 HTTP/1.1\" 200 -\n"
     ]
    }
   ],
   "source": [
    "@app.route(\"/\")\n",
    "def home():\n",
    "    # we will use Flask's render_template method to render a website template.\n",
    "    return render_template(\"homepage.html\")\n",
    "\n",
    "\n",
    "app.run(host='0.0.0.0', port=81)"
   ]
  }
 ],
 "metadata": {
  "kernelspec": {
   "display_name": "Python 3.9.13 64-bit (microsoft store)",
   "language": "python",
   "name": "python3"
  },
  "language_info": {
   "codemirror_mode": {
    "name": "ipython",
    "version": 3
   },
   "file_extension": ".py",
   "mimetype": "text/x-python",
   "name": "python",
   "nbconvert_exporter": "python",
   "pygments_lexer": "ipython3",
   "version": "3.9.13"
  },
  "orig_nbformat": 4,
  "vscode": {
   "interpreter": {
    "hash": "6af523192e7ca8a726c8b07aef2a817f04bf13b88796248dfda9ecbb84c4951e"
   }
  }
 },
 "nbformat": 4,
 "nbformat_minor": 2
}
